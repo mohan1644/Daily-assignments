{
  "nbformat": 4,
  "nbformat_minor": 0,
  "metadata": {
    "colab": {
      "provenance": []
    },
    "kernelspec": {
      "name": "python3",
      "display_name": "Python 3"
    },
    "language_info": {
      "name": "python"
    }
  },
  "cells": [
    {
      "cell_type": "code",
      "execution_count": 1,
      "metadata": {
        "colab": {
          "base_uri": "https://localhost:8080/"
        },
        "id": "gP3NV2dBgXLc",
        "outputId": "66449aca-033f-44d1-ce95-bb9075e5120d"
      },
      "outputs": [
        {
          "output_type": "stream",
          "name": "stdout",
          "text": [
            "Collecting PyPDF2\n",
            "  Downloading pypdf2-3.0.1-py3-none-any.whl.metadata (6.8 kB)\n",
            "Downloading pypdf2-3.0.1-py3-none-any.whl (232 kB)\n",
            "\u001b[?25l   \u001b[90m━━━━━━━━━━━━━━━━━━━━━━━━━━━━━━━━━━━━━━━━\u001b[0m \u001b[32m0.0/232.6 kB\u001b[0m \u001b[31m?\u001b[0m eta \u001b[36m-:--:--\u001b[0m\r\u001b[2K   \u001b[91m━━━━━━━━━━━━━━━━━━━━━\u001b[0m\u001b[90m╺\u001b[0m\u001b[90m━━━━━━━━━━━━━━━━━━\u001b[0m \u001b[32m122.9/232.6 kB\u001b[0m \u001b[31m4.3 MB/s\u001b[0m eta \u001b[36m0:00:01\u001b[0m\r\u001b[2K   \u001b[90m━━━━━━━━━━━━━━━━━━━━━━━━━━━━━━━━━━━━━━━━\u001b[0m \u001b[32m232.6/232.6 kB\u001b[0m \u001b[31m4.2 MB/s\u001b[0m eta \u001b[36m0:00:00\u001b[0m\n",
            "\u001b[?25hInstalling collected packages: PyPDF2\n",
            "Successfully installed PyPDF2-3.0.1\n"
          ]
        }
      ],
      "source": [
        "pip install PyPDF2"
      ]
    },
    {
      "cell_type": "code",
      "source": [
        "import google.generativeai as genai\n",
        "from google.colab import userdata\n",
        "GOOGLE_API_KEY = userdata.get('GOOGLE_API_KEY')\n",
        "genai.configure(api_key=GOOGLE_API_KEY)\n"
      ],
      "metadata": {
        "id": "JORgaD3Pgs_J"
      },
      "execution_count": 2,
      "outputs": []
    },
    {
      "cell_type": "code",
      "source": [
        "import PyPDF2\n",
        "def extract_text_from_pdf(pdf_path):\n",
        "  \"\"\"Extracts text from a given health report pdf using PyPDF2.\"\"\"\n",
        "  text = \"\"\n",
        "  with open(pdf_path, 'rb') as pdf_file:\n",
        "    pdf_reader = PyPDF2.PdfReader(pdf_file)\n",
        "    for page in pdf_reader.pages:\n",
        "      text += page.extract_text() + \"\\n\"\n",
        "      return text\n",
        "\n"
      ],
      "metadata": {
        "id": "w3xdV137iT-j"
      },
      "execution_count": 7,
      "outputs": []
    },
    {
      "cell_type": "code",
      "source": [
        "def extract_health_insights(text):\n",
        "    \"\"\"Asks Gemini AI to extract key medical insights from the report.\"\"\"\n",
        "    model = genai.GenerativeModel(\"gemini-1.5-flash\")\n",
        "    prompt = f\"Extract key insights from the following health report:\\n\\n{text}\"\n",
        "    response = model.generate_content(prompt)\n",
        "    return response.text\n",
        "\n",
        "# Example Usage\n",
        "pdf_file = \"health_report.pdf\"\n",
        "extracted_text = extract_text_from_pdf(pdf_file)\n",
        "insights = extract_health_insights(extracted_text)\n",
        "print(\"Key Insights:\\n\", insights)"
      ],
      "metadata": {
        "colab": {
          "base_uri": "https://localhost:8080/",
          "height": 200
        },
        "id": "4UOp1SXVix1p",
        "outputId": "ddc03643-32f9-46db-efff-ad1fafff8f63"
      },
      "execution_count": 10,
      "outputs": [
        {
          "output_type": "stream",
          "name": "stdout",
          "text": [
            "Key Insights:\n",
            " The key insight from the Widal test report for Mr. Kishan Goud (MR2100003157) is that he shows a positive result for *Salmonella Typhi* \"O\" and \"H\" antibodies, significantly higher than the reference range.  Specifically:\n",
            "\n",
            "* **High Titers for *Salmonella Typhi*:**  The titers of 1:160 for \"O\" and 1:80 for \"H\" are indicative of a past or current infection with *Salmonella Typhi*, the bacteria that causes typhoid fever.  The reference range is 1:20.\n",
            "\n",
            "* **Negative for Paratyphoid:** The titers for *Salmonella Paratyphi* \"A\" and \"B\" are within the normal range (1:20), suggesting no current or recent infection with these bacteria.\n",
            "\n",
            "**Important Note:**  A Widal test alone is not definitive for diagnosing typhoid fever.  Further investigations are likely needed to confirm the diagnosis, as positive results can also be due to prior infection or cross-reactivity with other bacteria.\n",
            "\n"
          ]
        }
      ]
    },
    {
      "cell_type": "code",
      "source": [
        "def summarize_health_report(text):\n",
        "  \"\"\"summarizes the given health report using Gemini AI.\"\"\"\n",
        "  model = genai.GenerativeModel(\"gemini-1.5-flash\")\n",
        "  prompt = f\"Extract key insights from the following health report:\\n\\n{text}\"\n",
        "  response = model.generate_content(prompt)\n",
        "  return response.text\n",
        "\n",
        "summary=summarize_health_report(extracted_text)\n",
        "print(\"summary:\\n\", summary)"
      ],
      "metadata": {
        "colab": {
          "base_uri": "https://localhost:8080/",
          "height": 236
        },
        "id": "KO2XogvWmcnZ",
        "outputId": "3a9edf24-556c-44bd-e617-efd180dc28f4"
      },
      "execution_count": 15,
      "outputs": [
        {
          "output_type": "stream",
          "name": "stdout",
          "text": [
            "summary:\n",
            " Key Insights from the Widal Test Report:\n",
            "\n",
            "* **Patient:** Mr. Kishan Goud (MR2100003157, IP2100041193)\n",
            "* **Test:** Widal test for typhoid fever, checking for antibodies against *Salmonella Typhi* and *Salmonella Paratyphi*.\n",
            "* **Positive Results:**  Elevated antibody titers were found for *Salmonella Typhi* \"O\" (1:160) and \"H\" (1:80).  The reference range is 1:20 for both.\n",
            "* **Negative Results:** Antibody titers for *Salmonella Paratyphi* \"AH\" and \"BH\" were within the normal range (1:20).\n",
            "* **Interpretation:** The significantly elevated titers for *Salmonella Typhi* \"O\" and \"H\" suggest a *likely* current or recent infection with *Salmonella Typhi* (typhoid fever).  The negative results for *Salmonella Paratyphi* rule out that infection.  Further investigations might be needed to confirm the diagnosis.  The higher \"O\" titer might suggest a more recent infection.\n",
            "\n",
            "**Important Note:**  This interpretation is based solely on the provided Widal test results. A Widal test is not definitive for typhoid fever diagnosis, and other clinical findings and tests should be considered.  A positive Widal test can also be caused by prior infection or vaccination.\n",
            "\n"
          ]
        }
      ]
    },
    {
      "cell_type": "code",
      "source": [
        "def detect_abnormalities(text):\n",
        "  \"\"\"Analyzes lab text results and flags abnormal values.\"\"\"\n",
        "  model = genai.GenerativeModel(\"gemini-1.5-flash\")\n",
        "  prompt = f\"Analyze the lab test results to the following health report and highlight any abnormal values:\\n\\n{text}\"\n",
        "  response = model.generate_content(prompt)\n",
        "  return response.text\n",
        "abnormalities = detect_abnormalities(extracted_text)\n",
        "print(\"Potential abnormalities:\\n\", abnormalities)"
      ],
      "metadata": {
        "colab": {
          "base_uri": "https://localhost:8080/",
          "height": 236
        },
        "id": "W_wdAZiTnwhN",
        "outputId": "dd2ed00b-61c9-44bc-c8c7-5743ad134fa1"
      },
      "execution_count": 16,
      "outputs": [
        {
          "output_type": "stream",
          "name": "stdout",
          "text": [
            "Potential abnormalities:\n",
            " The abnormal values in the Widal test results are:\n",
            "\n",
            "* **S.Typhi \"O\": 1:160**  The reference range is 1:20.  A titer of 1:160 is significantly elevated, suggesting a possible current or recent infection with *Salmonella Typhi*.\n",
            "\n",
            "* **S.Typhi \"H\": 1:80** The reference range is 1:20. A titer of 1:80 is also elevated, further supporting the possibility of *Salmonella Typhi* infection.\n",
            "\n",
            "The titers for *S. Paratyphi* AH and BH are within the normal range.\n",
            "\n",
            "**Important Note:**  While these elevated titers strongly suggest typhoid fever (*Salmonella Typhi* infection), a Widal test alone is not diagnostic.  Other factors, clinical presentation, and possibly further testing (e.g., blood culture) are necessary for definitive diagnosis.  The interpretation of these results should be done by a qualified physician.  A high titer can also be due to prior exposure or vaccination.\n",
            "\n"
          ]
        }
      ]
    },
    {
      "cell_type": "code",
      "source": [
        "def explain_medical_terms(text):\n",
        "  \"\"\"Asks Gemini AI to simplify terms for patient understanding.\"\"\"\n",
        "  model = genai.GenerativeModel(\"gemini-1.5-flash\")\n",
        "  prompt = f\"Explain the medical terms in the following medical reports in simple language:\\n\\n{text}\"\n",
        "  response = model.generate_content(prompt)\n",
        "  return response.text\n",
        "\n",
        "explanation = explain_medical_terms(extracted_text)\n",
        "print(\"simplified Explanation:\\n\",explanation)"
      ],
      "metadata": {
        "colab": {
          "base_uri": "https://localhost:8080/",
          "height": 309
        },
        "id": "jTwpE0jvpEYQ",
        "outputId": "b42733f5-0396-4e10-b932-45d5be3d8e49"
      },
      "execution_count": 18,
      "outputs": [
        {
          "output_type": "stream",
          "name": "stdout",
          "text": [
            "simplified Explanation:\n",
            " This report shows the results of a Widal test, which checks for antibodies against different types of typhoid fever and paratyphoid fever bacteria.  Let's break down the results:\n",
            "\n",
            "* **S. Typhi \"O\" 1:160:** This means the patient has a high level of antibodies against the \"O\" antigen of *Salmonella Typhi*, the bacteria that causes typhoid fever.  A higher number (1:160) compared to the reference range (1:20) suggests a possible current or recent infection.\n",
            "\n",
            "* **S. Typhi \"H\" 1:80:** This shows a high level of antibodies against the \"H\" antigen of *Salmonella Typhi*. Again, higher than the reference range (1:20), suggesting possible current or recent infection.\n",
            "\n",
            "* **S. Paratyphi \"AH\" 1:20:**  This shows a normal level of antibodies against the \"AH\" antigen of *Salmonella Paratyphi A*, a bacteria that causes paratyphoid fever. The result is within the reference range, suggesting no current or recent infection with this bacteria.\n",
            "\n",
            "* **S. Paratyphi \"BH\" 1:20:** This also shows a normal level of antibodies against the \"BH\" antigen of *Salmonella Paratyphi B*, another bacteria causing paratyphoid fever.  The result is within the reference range, suggesting no current or recent infection with this bacteria.\n",
            "\n",
            "**In simple terms:** The test strongly suggests Mr. Kishan Goud has or recently had typhoid fever (because of the high antibody levels against *Salmonella Typhi*).  The results for paratyphoid are negative.\n",
            "\n",
            "**Important Note:** This is just one test, and a doctor needs to consider this along with other symptoms and tests to make a diagnosis and determine the appropriate treatment.  A high Widal test result doesn't definitively confirm typhoid fever; other factors are crucial for diagnosis.\n",
            "\n"
          ]
        }
      ]
    },
    {
      "cell_type": "code",
      "source": [
        "def ask_gamini_about_report(text, question):\n",
        "  \"\"\"allows user to ask questions about their health report.\"\"\"\n",
        "  model = genai.GenerativeModel(\"gemini-1.5-flash\")\n",
        "  prompt = f\"Answer the following question about the health report:\\n\\n{question}\\n\\n{text}\"\n",
        "  response = model.generate_content(prompt)\n",
        "  return response.text\n",
        "\n",
        "question = \"What is the patient's diagnosis?\"\n",
        "answer = ask_gamini_about_report(extracted_text, question)\n",
        "print(\"Answer:\\n\", answer)"
      ],
      "metadata": {
        "colab": {
          "base_uri": "https://localhost:8080/",
          "height": 91
        },
        "id": "ZuZvjlhfqfE1",
        "outputId": "de46ab99-91ee-422d-f22d-8e01db5c841c"
      },
      "execution_count": 22,
      "outputs": [
        {
          "output_type": "stream",
          "name": "stdout",
          "text": [
            "Answer:\n",
            " The report shows elevated titers for *Salmonella Typhi* \"O\" (1:160) and \"H\" (1:80).  While the other *Salmonella* titers are within the reference range, the significantly elevated *S. Typhi* titers strongly suggest a diagnosis of **Typhoid fever**.\n",
            "\n"
          ]
        }
      ]
    },
    {
      "cell_type": "code",
      "source": [],
      "metadata": {
        "id": "H1xhpnFar0E7"
      },
      "execution_count": null,
      "outputs": []
    }
  ]
}