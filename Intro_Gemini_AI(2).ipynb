{
  "nbformat": 4,
  "nbformat_minor": 0,
  "metadata": {
    "colab": {
      "provenance": []
    },
    "kernelspec": {
      "name": "python3",
      "display_name": "Python 3"
    },
    "language_info": {
      "name": "python"
    }
  },
  "cells": [
    {
      "cell_type": "code",
      "source": [
        "import google.generativeai as genai\n",
        "from google.colab import userdata\n",
        "GOOGLE_API_KEY=userdata.get('GOOGLE_API_KEY')\n",
        "genai.configure(api_key=GOOGLE_API_KEY)"
      ],
      "metadata": {
        "id": "4cMujC7e-F2u"
      },
      "execution_count": 4,
      "outputs": []
    },
    {
      "cell_type": "code",
      "source": [
        "import pathlib\n",
        "import textwrap\n",
        "from IPython.display import display, Markdown\n",
        "def to_markdown(text):\n",
        "  text = text.replace('•', '  *')\n",
        "  return Markdown(textwrap.indent(text, '> ', predicate=lambda _: True))"
      ],
      "metadata": {
        "id": "1Q3w4mxZAipq"
      },
      "execution_count": 5,
      "outputs": []
    },
    {
      "cell_type": "code",
      "source": [
        "import PIL.Image\n",
        "img = PIL.Image.open('/content/Image20250311122948.jpg')\n",
        "img\n",
        "model = genai.GenerativeModel('gemini-1.5-flash')\n",
        "response = model.generate_content([\"Write a short, engaging blog post based on this picture.]) It should include a description of the meal in the photo and talk about my journey meal prepping.\", img],\n",
        "stream=True)\n",
        "response.resolve()"
      ],
      "metadata": {
        "id": "ZMqNbMAKAyWP"
      },
      "execution_count": 13,
      "outputs": []
    },
    {
      "cell_type": "code",
      "source": [
        "to_markdown(response.text)"
      ],
      "metadata": {
        "colab": {
          "base_uri": "https://localhost:8080/",
          "height": 478
        },
        "id": "fCLEEg43CYeP",
        "outputId": "096f14d3-5092-4e51-b758-c3de0fff3269"
      },
      "execution_count": 14,
      "outputs": [
        {
          "output_type": "execute_result",
          "data": {
            "text/plain": [
              "<IPython.core.display.Markdown object>"
            ],
            "text/markdown": "> ## My Meal Prep Journey: From Chaos to Calm (and Delicious!)\n> \n> Let's be honest, adulting is hard.  Finding time to cook healthy, delicious meals amidst work, family, and life's other demands feels almost impossible. For the longest time, my lunches were a sad cycle of takeout and questionable convenience store options.  Then, I discovered the power of meal prepping.\n> \n> The image shows the fruits of my latest prepping session: two perfectly portioned containers brimming with teriyaki chicken, fluffy white rice, vibrant roasted carrots and peppers, and a generous helping of steamed broccoli.  It's a balanced, flavorful meal that’s both satisfying and surprisingly easy to prepare in bulk.\n> \n> My meal prep journey wasn't exactly a smooth one.  Initially, my attempts were…let's just say less than stellar.  Overcooked chicken, soggy vegetables, and bland flavors were common occurrences.  But I persevered! I learned to chop veggies efficiently, master the art of the perfect rice-to-protein ratio, and experiment with different flavor combinations.  \n> \n> Now, Sunday evenings are dedicated to my meal prep ritual. It’s become a relaxing, self-care activity. The sense of accomplishment that comes with knowing I have five healthy, ready-to-go lunches for the week is incredibly liberating.  No more frantic midday searches for something edible, just delicious, nutritious meals waiting for me.\n> \n> If you’re struggling with healthy eating and time constraints, give meal prepping a try. It might seem daunting at first, but trust me – the delicious, stress-free lunches (and the feeling of accomplishment!) are totally worth it.  I'd love to hear your own meal prep tips and tricks in the comments below!\n"
          },
          "metadata": {},
          "execution_count": 14
        }
      ]
    },
    {
      "cell_type": "code",
      "source": [
        "response = model.generate_content([\"Generate an accurate caption for this image.\",img])\n",
        "print(response.text)"
      ],
      "metadata": {
        "colab": {
          "base_uri": "https://localhost:8080/",
          "height": 363
        },
        "id": "Q0gd8jlvCdyH",
        "outputId": "4ef5432d-ace8-4fac-e3b6-52de41799cd8"
      },
      "execution_count": 15,
      "outputs": [
        {
          "output_type": "stream",
          "name": "stdout",
          "text": [
            "Here's a caption for the image:\n",
            "\n",
            "**Option 1 (Simple):**\n",
            "\n",
            "> Healthy and delicious meal prep!  Chicken and broccoli with rice.\n",
            "\n",
            "**Option 2 (More descriptive):**\n",
            "\n",
            "> Two servings of delicious and healthy meal prep.  Teriyaki chicken with steamed rice, broccoli, and carrots. Perfect for lunch or dinner!\n",
            "\n",
            "\n",
            "**Option 3 (Engaging):**\n",
            "\n",
            ">  Who needs takeout when you can make this amazing chicken and broccoli bowl?!  Meal prepping at its finest. 😋\n",
            "\n",
            "\n",
            "Choose the option that best suits your needs and intended audience.\n",
            "\n"
          ]
        }
      ]
    },
    {
      "cell_type": "code",
      "source": [
        "import PIL.Image\n",
        "img = PIL.Image.open('/content/Image20250311125052.jpg')\n",
        "img\n",
        "model = genai.GenerativeModel('gemini-1.5-flash')\n",
        "response = model.generate_content([\"Write a short, engaging blog post based on this picture.]) It should include a description of the meal in the photo and talk about my journey meal prepping.\", img],\n",
        "stream=True)\n",
        "response.resolve()"
      ],
      "metadata": {
        "id": "G5RdETvnC8DN"
      },
      "execution_count": 22,
      "outputs": []
    },
    {
      "source": [
        "response = model.generate_content([\"What emotions can you detect in this image?\", img]) # Change 'image' to 'img'\n",
        "print(response.text)"
      ],
      "cell_type": "code",
      "metadata": {
        "colab": {
          "base_uri": "https://localhost:8080/",
          "height": 182
        },
        "id": "ysa1CMMTGi__",
        "outputId": "217bd805-8e5f-4877-d8bc-c4afbf202971"
      },
      "execution_count": 24,
      "outputs": [
        {
          "output_type": "stream",
          "name": "stdout",
          "text": [
            "The woman in the image displays a combination of emotions, primarily:\n",
            "\n",
            "* **Confidence:** Her posture, direct gaze, and the gesture of pointing suggest self-assurance and a feeling of knowing what she's doing or talking about.\n",
            "* **Friendliness:** Her smile is warm and inviting, creating a positive and approachable expression.  The overall body language isn't defensive or closed off.\n",
            "* **Helpfulness:** The pointing gesture implies a willingness to guide or inform someone, suggesting helpfulness and a desire to share information.\n",
            "\n",
            "There's no evidence of negative emotions like anger, sadness, or anxiety in the image.  The overall impression is one of positive and confident engagement.\n",
            "\n"
          ]
        }
      ]
    },
    {
      "cell_type": "code",
      "source": [],
      "metadata": {
        "id": "KunqK3DCGcph"
      },
      "execution_count": null,
      "outputs": []
    }
  ]
}